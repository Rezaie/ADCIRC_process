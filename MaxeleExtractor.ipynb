{
 "cells": [
  {
   "cell_type": "markdown",
   "metadata": {},
   "source": [
    "# Pull from maxele"
   ]
  },
  {
   "cell_type": "code",
   "execution_count": null,
   "metadata": {
    "collapsed": false
   },
   "outputs": [],
   "source": [
    "import pandas as pd"
   ]
  },
  {
   "cell_type": "code",
   "execution_count": null,
   "metadata": {
    "collapsed": true
   },
   "outputs": [],
   "source": [
    "#--Read in Data from shapefile table:\n",
    "pointfile = r'Z:\\Users\\Rezaie\\Paper_CLIM_SLR\\Python_codes\\Md_Buffer_maxele.txt'\n",
    "df = pd.read_csv(pointfile, sep = '\\t')\n",
    "df = df.set_index('NodeID')"
   ]
  },
  {
   "cell_type": "code",
   "execution_count": null,
   "metadata": {
    "collapsed": false
   },
   "outputs": [],
   "source": [
    "#--Nodes we want from the maxel\n",
    "points = df.index\n",
    "#print(points)"
   ]
  },
  {
   "cell_type": "code",
   "execution_count": null,
   "metadata": {
    "collapsed": false
   },
   "outputs": [],
   "source": [
    "#--Read in Max wse from maxel: \n",
    "maxele = r'Z:\\Users\\Rezaie\\Paper_CLIM_SLR\\ADCIRC+SWAN\\Baseline\\Model Results\\Isabel\\maxele.63'\n",
    "f = fileinput.input(maxele)\n",
    "output = dict()\n",
    "\n",
    "for line in f:\n",
    "#for i in range(25):    \n",
    "    cur_line = f.readline().strip().split()\n",
    "    node, value = cur_line[0], cur_line[1]\n",
    "    #--value < 50 put in to ignore the timestep\n",
    "    if int(node) in points and float(value) < 50:\n",
    "        output[node] = value \n",
    "        print(\"Got One\", node, value)          \n",
    "\n",
    "fileinput.close()  "
   ]
  },
  {
   "cell_type": "code",
   "execution_count": null,
   "metadata": {
    "collapsed": true
   },
   "outputs": [],
   "source": [
    "#Format the node data into a dtaframe\n",
    "df_node = pd.DataFrame.from_dict(output, orient ='index')\n",
    "df_node.index = df_node.index.astype(int)\n",
    "df_node['maxel'] = df_node[0].astype(float)\n"
   ]
  },
  {
   "cell_type": "code",
   "execution_count": null,
   "metadata": {
    "collapsed": true
   },
   "outputs": [],
   "source": [
    "#--Merge max el valuse and data from shapefile table\n",
    "df = df.merge(df_node, how='inner', left_index=True, right_index=True, sort=False)\n"
   ]
  },
  {
   "cell_type": "code",
   "execution_count": null,
   "metadata": {
    "collapsed": false
   },
   "outputs": [],
   "source": [
    "#--Do math\n",
    "df['depth'] =  df['maxel'] - df['elev']"
   ]
  },
  {
   "cell_type": "code",
   "execution_count": null,
   "metadata": {
    "collapsed": false
   },
   "outputs": [],
   "source": [
    "df.head()\n",
    "\n",
    "df.to_csv(r'Z:\\Users\\Rezaie\\Paper_CLIM_SLR\\ADCIRC+SWAN\\Baseline\\Model Results\\Isabel\\after_python.txt', sep = ',')\n"
   ]
  }
 ],
 "metadata": {
  "anaconda-cloud": {},
  "kernelspec": {
   "display_name": "Python [default]",
   "language": "python",
   "name": "python2"
  },
  "language_info": {
   "codemirror_mode": {
    "name": "ipython",
    "version": 2
   },
   "file_extension": ".py",
   "mimetype": "text/x-python",
   "name": "python",
   "nbconvert_exporter": "python",
   "pygments_lexer": "ipython2",
   "version": "2.7.12"
  }
 },
 "nbformat": 4,
 "nbformat_minor": 1
}
