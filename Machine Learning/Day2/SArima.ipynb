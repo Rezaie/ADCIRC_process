{
  "cells": [
    {
      "cell_type": "markdown",
      "id": "fd522ffc-f962-4b13-af22-a119e167e259",
      "metadata": {
        "id": "fd522ffc-f962-4b13-af22-a119e167e259"
      },
      "source": [
        "# SARIMA Modeling\n",
        "\n",
        "SARIMA (Seasonal ARIMA) extends the ARIMA model by incorporating seasonal components to better capture patterns that repeat at regular intervals, such as monthly or quarterly data.\n",
        "\n",
        "In ARIMA, we observed that the next hour's value depends on previous hours' values and the errors that occurred during their predictions. In SARIMA, the same principle applies, but now the next hour's value also depends on some seasonal values (e.g., the value from last year, the year before that, and so on) as well as the errors that occurred during their predictions.\n",
        "\n",
        "P specifies the number of seasons (seasonal values), Q determines the number of seasonal errors, and D specifies the number of seasonal differences. s specifies the length of a season. For example, if we consider a season to be a year, then **s = 24 × 365 = 8760**.\n",
        "\n",
        "If data is chaotic and doesn't have seasonal variation, SARIMA is not helpful and it's very slow thus should be avoided.\n",
        "\n",
        "## Seasonal Components\n",
        "\n",
        "In addition to the non-seasonal ARIMA parameters $(p, d, q)$, SARIMA includes seasonal parameters $(P, D, Q)_s$, where:\n",
        "\n",
        "- **$P$ (Seasonal Autoregression):** Captures the relationship between the current value and its previous seasonal values.\n",
        "  \n",
        "  $$\n",
        "  y_t = \\alpha_1 y_{t-s} + \\alpha_2 y_{t-2s} + \\dots + \\alpha_P y_{t-Ps} + \\dots\n",
        "  $$\n",
        "\n",
        "- **$D$ (Seasonal Differencing):** Removes seasonal trends by differencing the series at the seasonal lag.\n",
        "  \n",
        "  $$\n",
        "  y_t' = y_t - y_{t-s}\n",
        "  $$\n",
        "\n",
        "- **$Q$ (Seasonal Moving Average):** Models the dependency between the current value and past seasonal forecast errors.\n",
        "  \n",
        "  $$\n",
        "  y_t = e_t + \\beta_1 e_{t-s} + \\beta_2 e_{t-2s} + \\dots + \\beta_Q e_{t-Qs} + \\dots\n",
        "  $$\n",
        "\n",
        "- **$s$ (Seasonal Period):** The number of time steps in a seasonal cycle (e.g., $s=12$ for monthly data with yearly seasonality).\n",
        "\n",
        "## SARIMA $(p, d, q) \\times (P, D, Q)_s$ Model\n",
        "\n",
        "The SARIMA model combines both non-seasonal and seasonal components:\n",
        "\n",
        "$$\n",
        "\\Phi_P(B^s) \\phi_p(B) (1 - B)^d (1 - B^s)^D y_t = \\Theta_q(B) \\Theta_Q(B^s) e_t\n",
        "$$\n",
        "\n",
        "Where:\n",
        "- $\\phi_p(B)$ and $\\Theta_q(B)$ are the non-seasonal AR and MA polynomials.\n",
        "- $\\Phi_P(B^s)$ and $\\Theta_Q(B^s)$ are the seasonal AR and MA polynomials.\n",
        "- $B$ is the backshift operator, $B y_t = y_{t-1}$.\n",
        "\n",
        "## Fitting a SARIMA Model\n",
        "\n",
        "To fit a SARIMA model:\n",
        "1. **Determine $p$, $d$, $q$, $P$, $D$, $Q$, and $s$:** Analyze both non-seasonal and seasonal ACF (Auto-correlation Function) and PACF (Partial Auto-correlation Function) plots to identify appropriate orders.\n",
        "2. **Estimate parameters:** Use Maximum Likelihood Estimation (MLE) to estimate both non-seasonal and seasonal parameters.\n",
        "3. **Model validation:** Perform diagnostic checks, including residual analysis, to ensure both seasonal and non-seasonal components are well captured.\n",
        "4. **Forecast:** Utilize the fitted SARIMA model to make forecasts that account for both trends and seasonality.\n",
        "\n",
        "## Benefits of SARIMA\n",
        "\n",
        "- **Captures Seasonality:** Effectively models data with strong seasonal patterns, which ARIMA alone may not handle well.\n",
        "- **Improved Forecast Accuracy:** By accounting for seasonal effects, SARIMA often provides more accurate forecasts for seasonal time series.\n",
        "\n",
        "SARIMA modeling extends ARIMA by adding seasonal autoregressive, differencing, and moving average components, allowing it to model and forecast data with seasonal patterns effectively.\n",
        "\n"
      ]
    },
    {
      "cell_type": "code",
      "execution_count": 1,
      "id": "5a88f527-08eb-448d-9883-ef8cfc1fe7d4",
      "metadata": {
        "id": "5a88f527-08eb-448d-9883-ef8cfc1fe7d4"
      },
      "outputs": [],
      "source": [
        "import pandas as pd\n",
        "import numpy as np\n",
        "import matplotlib.pyplot as plt\n",
        "import warnings\n",
        "import copy\n",
        "\n",
        "warnings.filterwarnings(\"ignore\")"
      ]
    },
    {
      "cell_type": "code",
      "execution_count": 2,
      "id": "f48a1de7-6968-45b6-9ba4-890570392cbd",
      "metadata": {
        "id": "f48a1de7-6968-45b6-9ba4-890570392cbd"
      },
      "outputs": [],
      "source": [
        "df = pd.read_csv('final_data.csv')\n",
        "df.reset_index(inplace=True)"
      ]
    },
    {
      "cell_type": "code",
      "execution_count": 3,
      "id": "ce023f8b-f2a2-4b6e-a067-f7e4dfd6a7b9",
      "metadata": {
        "id": "ce023f8b-f2a2-4b6e-a067-f7e4dfd6a7b9",
        "outputId": "27520b7f-3ff2-4414-c981-bb0b62e00deb",
        "colab": {
          "base_uri": "https://localhost:8080/"
        }
      },
      "outputs": [
        {
          "output_type": "execute_result",
          "data": {
            "text/plain": [
              "Index(['index', 'DATE', 'Precip', 'WetBulbTemp', 'DryBulbTemp', 'RelHumidity',\n",
              "       'WindSpeed', 'StationPressure', 'gauge_height'],\n",
              "      dtype='object')"
            ]
          },
          "metadata": {},
          "execution_count": 3
        }
      ],
      "source": [
        "df.columns"
      ]
    },
    {
      "cell_type": "markdown",
      "id": "8173b91d-8b4e-4b50-96df-81e79ecb8d21",
      "metadata": {
        "id": "8173b91d-8b4e-4b50-96df-81e79ecb8d21"
      },
      "source": [
        "<hr>\n",
        "\n",
        "The standard SARIMA model is used for univariate forecasting. i.e. it uses only one column of data as input. Same ARIMA object in statsmodels also\n",
        "implements SARIMA model, it just takes seasonal_order as argument where we provide seasonal parameters (P,D,Q,s).\n",
        "\n",
        "There's also SARIMAX model implemented in statsmodels which encapsulates the univariate SARIMA model as well as it has option to include\n",
        "exogenous variables (multivariate SARIMA).\n",
        "\n",
        "We will implement SARIMA to make prediction for future values of gauge height based on past values using the same ARIMA class.\n",
        "\n",
        "We will fit model for same data as ARIMA. SARIMA is much more complex model than ARIMA with more parameters to learn, and computaitonally intensive and slow.\n",
        "We will use s = 7 hours just for demonstration, it's not practical. SARIMA should be used if s is not large and you know there's periodicity in the data.\n",
        "\n",
        "Select data for year 2023."
      ]
    },
    {
      "cell_type": "code",
      "execution_count": 4,
      "id": "4e072d8b-3c68-4d73-bdd0-bb09c3afef24",
      "metadata": {
        "id": "4e072d8b-3c68-4d73-bdd0-bb09c3afef24"
      },
      "outputs": [],
      "source": [
        "df['DATE'] = pd.to_datetime(df['DATE'])\n",
        "\n",
        "df_23 = df[df.DATE.dt.year == 2023]"
      ]
    },
    {
      "cell_type": "markdown",
      "id": "a2e8661f-90b6-4095-8092-08e742b8bfe4",
      "metadata": {
        "id": "a2e8661f-90b6-4095-8092-08e742b8bfe4"
      },
      "source": [
        "Next select only the gauge height data"
      ]
    },
    {
      "cell_type": "code",
      "execution_count": 5,
      "id": "a226a412-c06a-4251-b74a-5885a2572a70",
      "metadata": {
        "id": "a226a412-c06a-4251-b74a-5885a2572a70"
      },
      "outputs": [],
      "source": [
        "df_23_gh = df_23[['DATE', 'gauge_height']]\n",
        "\n",
        "df_23_gh.set_index('DATE', inplace=True)"
      ]
    },
    {
      "cell_type": "code",
      "execution_count": 6,
      "id": "a4ec0e5d-9235-4cca-b460-bf35c81bb333",
      "metadata": {
        "id": "a4ec0e5d-9235-4cca-b460-bf35c81bb333",
        "outputId": "99db1b23-6873-4b44-8a12-6e4a666cf87d",
        "colab": {
          "base_uri": "https://localhost:8080/",
          "height": 455
        }
      },
      "outputs": [
        {
          "output_type": "execute_result",
          "data": {
            "text/plain": [
              "                     gauge_height\n",
              "DATE                             \n",
              "2023-01-01 00:00:00        7.0725\n",
              "2023-01-01 01:00:00        8.4900\n",
              "2023-01-01 02:00:00        9.6575\n",
              "2023-01-01 03:00:00       10.1700\n",
              "2023-01-01 04:00:00       10.0800\n",
              "...                           ...\n",
              "2023-12-31 19:00:00        4.5350\n",
              "2023-12-31 20:00:00        4.5400\n",
              "2023-12-31 21:00:00        4.5275\n",
              "2023-12-31 22:00:00        4.5125\n",
              "2023-12-31 23:00:00        4.5025\n",
              "\n",
              "[8760 rows x 1 columns]"
            ],
            "text/html": [
              "\n",
              "  <div id=\"df-3d6e92a2-94f6-4781-8771-36017dda7f9a\" class=\"colab-df-container\">\n",
              "    <div>\n",
              "<style scoped>\n",
              "    .dataframe tbody tr th:only-of-type {\n",
              "        vertical-align: middle;\n",
              "    }\n",
              "\n",
              "    .dataframe tbody tr th {\n",
              "        vertical-align: top;\n",
              "    }\n",
              "\n",
              "    .dataframe thead th {\n",
              "        text-align: right;\n",
              "    }\n",
              "</style>\n",
              "<table border=\"1\" class=\"dataframe\">\n",
              "  <thead>\n",
              "    <tr style=\"text-align: right;\">\n",
              "      <th></th>\n",
              "      <th>gauge_height</th>\n",
              "    </tr>\n",
              "    <tr>\n",
              "      <th>DATE</th>\n",
              "      <th></th>\n",
              "    </tr>\n",
              "  </thead>\n",
              "  <tbody>\n",
              "    <tr>\n",
              "      <th>2023-01-01 00:00:00</th>\n",
              "      <td>7.0725</td>\n",
              "    </tr>\n",
              "    <tr>\n",
              "      <th>2023-01-01 01:00:00</th>\n",
              "      <td>8.4900</td>\n",
              "    </tr>\n",
              "    <tr>\n",
              "      <th>2023-01-01 02:00:00</th>\n",
              "      <td>9.6575</td>\n",
              "    </tr>\n",
              "    <tr>\n",
              "      <th>2023-01-01 03:00:00</th>\n",
              "      <td>10.1700</td>\n",
              "    </tr>\n",
              "    <tr>\n",
              "      <th>2023-01-01 04:00:00</th>\n",
              "      <td>10.0800</td>\n",
              "    </tr>\n",
              "    <tr>\n",
              "      <th>...</th>\n",
              "      <td>...</td>\n",
              "    </tr>\n",
              "    <tr>\n",
              "      <th>2023-12-31 19:00:00</th>\n",
              "      <td>4.5350</td>\n",
              "    </tr>\n",
              "    <tr>\n",
              "      <th>2023-12-31 20:00:00</th>\n",
              "      <td>4.5400</td>\n",
              "    </tr>\n",
              "    <tr>\n",
              "      <th>2023-12-31 21:00:00</th>\n",
              "      <td>4.5275</td>\n",
              "    </tr>\n",
              "    <tr>\n",
              "      <th>2023-12-31 22:00:00</th>\n",
              "      <td>4.5125</td>\n",
              "    </tr>\n",
              "    <tr>\n",
              "      <th>2023-12-31 23:00:00</th>\n",
              "      <td>4.5025</td>\n",
              "    </tr>\n",
              "  </tbody>\n",
              "</table>\n",
              "<p>8760 rows × 1 columns</p>\n",
              "</div>\n",
              "    <div class=\"colab-df-buttons\">\n",
              "\n",
              "  <div class=\"colab-df-container\">\n",
              "    <button class=\"colab-df-convert\" onclick=\"convertToInteractive('df-3d6e92a2-94f6-4781-8771-36017dda7f9a')\"\n",
              "            title=\"Convert this dataframe to an interactive table.\"\n",
              "            style=\"display:none;\">\n",
              "\n",
              "  <svg xmlns=\"http://www.w3.org/2000/svg\" height=\"24px\" viewBox=\"0 -960 960 960\">\n",
              "    <path d=\"M120-120v-720h720v720H120Zm60-500h600v-160H180v160Zm220 220h160v-160H400v160Zm0 220h160v-160H400v160ZM180-400h160v-160H180v160Zm440 0h160v-160H620v160ZM180-180h160v-160H180v160Zm440 0h160v-160H620v160Z\"/>\n",
              "  </svg>\n",
              "    </button>\n",
              "\n",
              "  <style>\n",
              "    .colab-df-container {\n",
              "      display:flex;\n",
              "      gap: 12px;\n",
              "    }\n",
              "\n",
              "    .colab-df-convert {\n",
              "      background-color: #E8F0FE;\n",
              "      border: none;\n",
              "      border-radius: 50%;\n",
              "      cursor: pointer;\n",
              "      display: none;\n",
              "      fill: #1967D2;\n",
              "      height: 32px;\n",
              "      padding: 0 0 0 0;\n",
              "      width: 32px;\n",
              "    }\n",
              "\n",
              "    .colab-df-convert:hover {\n",
              "      background-color: #E2EBFA;\n",
              "      box-shadow: 0px 1px 2px rgba(60, 64, 67, 0.3), 0px 1px 3px 1px rgba(60, 64, 67, 0.15);\n",
              "      fill: #174EA6;\n",
              "    }\n",
              "\n",
              "    .colab-df-buttons div {\n",
              "      margin-bottom: 4px;\n",
              "    }\n",
              "\n",
              "    [theme=dark] .colab-df-convert {\n",
              "      background-color: #3B4455;\n",
              "      fill: #D2E3FC;\n",
              "    }\n",
              "\n",
              "    [theme=dark] .colab-df-convert:hover {\n",
              "      background-color: #434B5C;\n",
              "      box-shadow: 0px 1px 3px 1px rgba(0, 0, 0, 0.15);\n",
              "      filter: drop-shadow(0px 1px 2px rgba(0, 0, 0, 0.3));\n",
              "      fill: #FFFFFF;\n",
              "    }\n",
              "  </style>\n",
              "\n",
              "    <script>\n",
              "      const buttonEl =\n",
              "        document.querySelector('#df-3d6e92a2-94f6-4781-8771-36017dda7f9a button.colab-df-convert');\n",
              "      buttonEl.style.display =\n",
              "        google.colab.kernel.accessAllowed ? 'block' : 'none';\n",
              "\n",
              "      async function convertToInteractive(key) {\n",
              "        const element = document.querySelector('#df-3d6e92a2-94f6-4781-8771-36017dda7f9a');\n",
              "        const dataTable =\n",
              "          await google.colab.kernel.invokeFunction('convertToInteractive',\n",
              "                                                    [key], {});\n",
              "        if (!dataTable) return;\n",
              "\n",
              "        const docLinkHtml = 'Like what you see? Visit the ' +\n",
              "          '<a target=\"_blank\" href=https://colab.research.google.com/notebooks/data_table.ipynb>data table notebook</a>'\n",
              "          + ' to learn more about interactive tables.';\n",
              "        element.innerHTML = '';\n",
              "        dataTable['output_type'] = 'display_data';\n",
              "        await google.colab.output.renderOutput(dataTable, element);\n",
              "        const docLink = document.createElement('div');\n",
              "        docLink.innerHTML = docLinkHtml;\n",
              "        element.appendChild(docLink);\n",
              "      }\n",
              "    </script>\n",
              "  </div>\n",
              "\n",
              "\n",
              "    <div id=\"df-efaa5e28-21ab-4988-b89e-443934bb96c6\">\n",
              "      <button class=\"colab-df-quickchart\" onclick=\"quickchart('df-efaa5e28-21ab-4988-b89e-443934bb96c6')\"\n",
              "                title=\"Suggest charts\"\n",
              "                style=\"display:none;\">\n",
              "\n",
              "<svg xmlns=\"http://www.w3.org/2000/svg\" height=\"24px\"viewBox=\"0 0 24 24\"\n",
              "     width=\"24px\">\n",
              "    <g>\n",
              "        <path d=\"M19 3H5c-1.1 0-2 .9-2 2v14c0 1.1.9 2 2 2h14c1.1 0 2-.9 2-2V5c0-1.1-.9-2-2-2zM9 17H7v-7h2v7zm4 0h-2V7h2v10zm4 0h-2v-4h2v4z\"/>\n",
              "    </g>\n",
              "</svg>\n",
              "      </button>\n",
              "\n",
              "<style>\n",
              "  .colab-df-quickchart {\n",
              "      --bg-color: #E8F0FE;\n",
              "      --fill-color: #1967D2;\n",
              "      --hover-bg-color: #E2EBFA;\n",
              "      --hover-fill-color: #174EA6;\n",
              "      --disabled-fill-color: #AAA;\n",
              "      --disabled-bg-color: #DDD;\n",
              "  }\n",
              "\n",
              "  [theme=dark] .colab-df-quickchart {\n",
              "      --bg-color: #3B4455;\n",
              "      --fill-color: #D2E3FC;\n",
              "      --hover-bg-color: #434B5C;\n",
              "      --hover-fill-color: #FFFFFF;\n",
              "      --disabled-bg-color: #3B4455;\n",
              "      --disabled-fill-color: #666;\n",
              "  }\n",
              "\n",
              "  .colab-df-quickchart {\n",
              "    background-color: var(--bg-color);\n",
              "    border: none;\n",
              "    border-radius: 50%;\n",
              "    cursor: pointer;\n",
              "    display: none;\n",
              "    fill: var(--fill-color);\n",
              "    height: 32px;\n",
              "    padding: 0;\n",
              "    width: 32px;\n",
              "  }\n",
              "\n",
              "  .colab-df-quickchart:hover {\n",
              "    background-color: var(--hover-bg-color);\n",
              "    box-shadow: 0 1px 2px rgba(60, 64, 67, 0.3), 0 1px 3px 1px rgba(60, 64, 67, 0.15);\n",
              "    fill: var(--button-hover-fill-color);\n",
              "  }\n",
              "\n",
              "  .colab-df-quickchart-complete:disabled,\n",
              "  .colab-df-quickchart-complete:disabled:hover {\n",
              "    background-color: var(--disabled-bg-color);\n",
              "    fill: var(--disabled-fill-color);\n",
              "    box-shadow: none;\n",
              "  }\n",
              "\n",
              "  .colab-df-spinner {\n",
              "    border: 2px solid var(--fill-color);\n",
              "    border-color: transparent;\n",
              "    border-bottom-color: var(--fill-color);\n",
              "    animation:\n",
              "      spin 1s steps(1) infinite;\n",
              "  }\n",
              "\n",
              "  @keyframes spin {\n",
              "    0% {\n",
              "      border-color: transparent;\n",
              "      border-bottom-color: var(--fill-color);\n",
              "      border-left-color: var(--fill-color);\n",
              "    }\n",
              "    20% {\n",
              "      border-color: transparent;\n",
              "      border-left-color: var(--fill-color);\n",
              "      border-top-color: var(--fill-color);\n",
              "    }\n",
              "    30% {\n",
              "      border-color: transparent;\n",
              "      border-left-color: var(--fill-color);\n",
              "      border-top-color: var(--fill-color);\n",
              "      border-right-color: var(--fill-color);\n",
              "    }\n",
              "    40% {\n",
              "      border-color: transparent;\n",
              "      border-right-color: var(--fill-color);\n",
              "      border-top-color: var(--fill-color);\n",
              "    }\n",
              "    60% {\n",
              "      border-color: transparent;\n",
              "      border-right-color: var(--fill-color);\n",
              "    }\n",
              "    80% {\n",
              "      border-color: transparent;\n",
              "      border-right-color: var(--fill-color);\n",
              "      border-bottom-color: var(--fill-color);\n",
              "    }\n",
              "    90% {\n",
              "      border-color: transparent;\n",
              "      border-bottom-color: var(--fill-color);\n",
              "    }\n",
              "  }\n",
              "</style>\n",
              "\n",
              "      <script>\n",
              "        async function quickchart(key) {\n",
              "          const quickchartButtonEl =\n",
              "            document.querySelector('#' + key + ' button');\n",
              "          quickchartButtonEl.disabled = true;  // To prevent multiple clicks.\n",
              "          quickchartButtonEl.classList.add('colab-df-spinner');\n",
              "          try {\n",
              "            const charts = await google.colab.kernel.invokeFunction(\n",
              "                'suggestCharts', [key], {});\n",
              "          } catch (error) {\n",
              "            console.error('Error during call to suggestCharts:', error);\n",
              "          }\n",
              "          quickchartButtonEl.classList.remove('colab-df-spinner');\n",
              "          quickchartButtonEl.classList.add('colab-df-quickchart-complete');\n",
              "        }\n",
              "        (() => {\n",
              "          let quickchartButtonEl =\n",
              "            document.querySelector('#df-efaa5e28-21ab-4988-b89e-443934bb96c6 button');\n",
              "          quickchartButtonEl.style.display =\n",
              "            google.colab.kernel.accessAllowed ? 'block' : 'none';\n",
              "        })();\n",
              "      </script>\n",
              "    </div>\n",
              "\n",
              "  <div id=\"id_aa496d6a-eb48-4570-9b11-6f128b7d96e2\">\n",
              "    <style>\n",
              "      .colab-df-generate {\n",
              "        background-color: #E8F0FE;\n",
              "        border: none;\n",
              "        border-radius: 50%;\n",
              "        cursor: pointer;\n",
              "        display: none;\n",
              "        fill: #1967D2;\n",
              "        height: 32px;\n",
              "        padding: 0 0 0 0;\n",
              "        width: 32px;\n",
              "      }\n",
              "\n",
              "      .colab-df-generate:hover {\n",
              "        background-color: #E2EBFA;\n",
              "        box-shadow: 0px 1px 2px rgba(60, 64, 67, 0.3), 0px 1px 3px 1px rgba(60, 64, 67, 0.15);\n",
              "        fill: #174EA6;\n",
              "      }\n",
              "\n",
              "      [theme=dark] .colab-df-generate {\n",
              "        background-color: #3B4455;\n",
              "        fill: #D2E3FC;\n",
              "      }\n",
              "\n",
              "      [theme=dark] .colab-df-generate:hover {\n",
              "        background-color: #434B5C;\n",
              "        box-shadow: 0px 1px 3px 1px rgba(0, 0, 0, 0.15);\n",
              "        filter: drop-shadow(0px 1px 2px rgba(0, 0, 0, 0.3));\n",
              "        fill: #FFFFFF;\n",
              "      }\n",
              "    </style>\n",
              "    <button class=\"colab-df-generate\" onclick=\"generateWithVariable('df_23_gh')\"\n",
              "            title=\"Generate code using this dataframe.\"\n",
              "            style=\"display:none;\">\n",
              "\n",
              "  <svg xmlns=\"http://www.w3.org/2000/svg\" height=\"24px\"viewBox=\"0 0 24 24\"\n",
              "       width=\"24px\">\n",
              "    <path d=\"M7,19H8.4L18.45,9,17,7.55,7,17.6ZM5,21V16.75L18.45,3.32a2,2,0,0,1,2.83,0l1.4,1.43a1.91,1.91,0,0,1,.58,1.4,1.91,1.91,0,0,1-.58,1.4L9.25,21ZM18.45,9,17,7.55Zm-12,3A5.31,5.31,0,0,0,4.9,8.1,5.31,5.31,0,0,0,1,6.5,5.31,5.31,0,0,0,4.9,4.9,5.31,5.31,0,0,0,6.5,1,5.31,5.31,0,0,0,8.1,4.9,5.31,5.31,0,0,0,12,6.5,5.46,5.46,0,0,0,6.5,12Z\"/>\n",
              "  </svg>\n",
              "    </button>\n",
              "    <script>\n",
              "      (() => {\n",
              "      const buttonEl =\n",
              "        document.querySelector('#id_aa496d6a-eb48-4570-9b11-6f128b7d96e2 button.colab-df-generate');\n",
              "      buttonEl.style.display =\n",
              "        google.colab.kernel.accessAllowed ? 'block' : 'none';\n",
              "\n",
              "      buttonEl.onclick = () => {\n",
              "        google.colab.notebook.generateWithVariable('df_23_gh');\n",
              "      }\n",
              "      })();\n",
              "    </script>\n",
              "  </div>\n",
              "\n",
              "    </div>\n",
              "  </div>\n"
            ],
            "application/vnd.google.colaboratory.intrinsic+json": {
              "type": "dataframe",
              "variable_name": "df_23_gh",
              "summary": "{\n  \"name\": \"df_23_gh\",\n  \"rows\": 8760,\n  \"fields\": [\n    {\n      \"column\": \"DATE\",\n      \"properties\": {\n        \"dtype\": \"date\",\n        \"min\": \"2023-01-01 00:00:00\",\n        \"max\": \"2023-12-31 23:00:00\",\n        \"num_unique_values\": 8760,\n        \"samples\": [\n          \"2023-09-10 08:00:00\",\n          \"2023-08-20 12:00:00\",\n          \"2023-09-07 14:00:00\"\n        ],\n        \"semantic_type\": \"\",\n        \"description\": \"\"\n      }\n    },\n    {\n      \"column\": \"gauge_height\",\n      \"properties\": {\n        \"dtype\": \"number\",\n        \"std\": 2.502754853332491,\n        \"min\": 3.835,\n        \"max\": 23.9175,\n        \"num_unique_values\": 3315,\n        \"samples\": [\n          4.2175,\n          6.2075,\n          4.6725\n        ],\n        \"semantic_type\": \"\",\n        \"description\": \"\"\n      }\n    }\n  ]\n}"
            }
          },
          "metadata": {},
          "execution_count": 6
        }
      ],
      "source": [
        "df_23_gh"
      ]
    },
    {
      "cell_type": "markdown",
      "id": "6c73d316-87ce-4b08-9d8a-3a5710e67cf3",
      "metadata": {
        "id": "6c73d316-87ce-4b08-9d8a-3a5710e67cf3"
      },
      "source": [
        "**Split the data such that, 10 months data is used for training and 2 months data is used for testing**"
      ]
    },
    {
      "cell_type": "code",
      "execution_count": 7,
      "id": "a2b2685d-1f61-4304-ae4b-e3a49ecdf697",
      "metadata": {
        "id": "a2b2685d-1f61-4304-ae4b-e3a49ecdf697"
      },
      "outputs": [],
      "source": [
        "train, test = df_23_gh[:'2023-11-01 00:00:00'], df_23_gh['2023-11-01 01:00:00':]"
      ]
    },
    {
      "cell_type": "code",
      "execution_count": 8,
      "id": "10e8ac5d-fbe0-4751-91c0-0924b38bdef4",
      "metadata": {
        "id": "10e8ac5d-fbe0-4751-91c0-0924b38bdef4",
        "outputId": "e93266c9-fe47-4e8c-dbc3-fc843438e88f",
        "colab": {
          "base_uri": "https://localhost:8080/"
        }
      },
      "outputs": [
        {
          "output_type": "stream",
          "name": "stdout",
          "text": [
            "7297 1463 8760 8760\n"
          ]
        }
      ],
      "source": [
        "print(len(train), len(test), len(train)+len(test), len(df_23_gh))"
      ]
    },
    {
      "cell_type": "code",
      "execution_count": 9,
      "id": "d7dc1d30-4aa1-40d7-aebb-a010e7c931dc",
      "metadata": {
        "id": "d7dc1d30-4aa1-40d7-aebb-a010e7c931dc"
      },
      "outputs": [],
      "source": [
        "# import ARIMA model\n",
        "\n",
        "from statsmodels.tsa.arima.model import ARIMA\n",
        "warnings.filterwarnings(\"ignore\")"
      ]
    },
    {
      "cell_type": "markdown",
      "id": "30e8c3b7-712b-49ff-b5f2-5b9865b2dbec",
      "metadata": {
        "id": "30e8c3b7-712b-49ff-b5f2-5b9865b2dbec"
      },
      "source": [
        "Note that p, d and q are also the hyperparameters in SARIMA similar to ARIMA model\n",
        "- p stands for \"sequence length or lookback window or lag\"\n",
        "- q stands for \"number of past errors\"\n",
        "- d stands for differencing\n",
        "\n",
        "Along with  p, d, q there are 4 more hyperparameters i.e. P, D, Q and s.\n",
        "- P stands for \"seasonal autogression\"\n",
        "- D stands for \"seasonal difference\"\n",
        "- Q stands for \"seasonal moving average\"\n",
        "- s stands for \"Seasonal Period\"\n",
        "\n",
        "Larger the value of s, more computation and thus time is required to train the model.\n",
        "We will train with smaller value of s.\n",
        "  \n",
        "Let's train the model with lookback window of 6 hours\n"
      ]
    },
    {
      "cell_type": "code",
      "execution_count": 10,
      "id": "4ad0bbaa-32a8-4686-b230-ea4aaa45ce25",
      "metadata": {
        "id": "4ad0bbaa-32a8-4686-b230-ea4aaa45ce25"
      },
      "outputs": [],
      "source": [
        "# Using 5 hours because it's computationally expensive and slow to use more. But you can try.\n",
        "\n",
        "ORDER = (5, 1, 5) #p,d,q\n",
        "SEASONAL_ORDER = (2, 0, 2, 7) #P,D,Q,s\n",
        "\n",
        "model = ARIMA(train, order=ORDER, seasonal_order=SEASONAL_ORDER, freq='1h',\n",
        "                    enforce_invertibility=False)"
      ]
    },
    {
      "cell_type": "code",
      "execution_count": 11,
      "id": "47b1d1cc-9a7b-4b32-bc7f-8c994bb02191",
      "metadata": {
        "id": "47b1d1cc-9a7b-4b32-bc7f-8c994bb02191"
      },
      "outputs": [],
      "source": [
        "model_fit = model.fit(method='innovations_mle', low_memory=True, cov_type='none') ## the argments passed in the fit function are to reduce computational time. src: https://stackoverflow.com/questions/61548583/why-sarima-has-seasonal-limits"
      ]
    },
    {
      "cell_type": "markdown",
      "id": "78950147-c1cf-4bd0-93e7-3b75d823078b",
      "metadata": {
        "id": "78950147-c1cf-4bd0-93e7-3b75d823078b"
      },
      "source": [
        "We have to fit the SARIMA model which is basically ARIMA with seasonal components, which means we have calculated p(6), P(2) parameters that approximate how previous observations affect the next output.\n",
        "Similary, we have calculated q(6), Q(1) parameters that approximate how previous errors (predictions) affect the next output.\n",
        "\n",
        "we trained model for training data, it has a bunch of information it has saved. They are stored in following fields."
      ]
    },
    {
      "cell_type": "code",
      "execution_count": null,
      "id": "1f0fe905-f6f7-4d5c-87ab-3771237da075",
      "metadata": {
        "id": "1f0fe905-f6f7-4d5c-87ab-3771237da075"
      },
      "outputs": [],
      "source": [
        "# Data saved in the model\n",
        "\n",
        "# model_fit.resid  - Pandas Series with date as index : Saved residuals\n",
        "# model_fit.model.endog - Numpy array 2D array : Saved training data\n",
        "# model_fit.fittedvalues - Pandas Series with date as index : Fitted (predicted) values from training data\n",
        "# model_fit.arparams - Numpy array : calculated parameters that determine effect of past values\n",
        "# model_fit.maparams - Numpy array : calculated parameters that dtermine effect of past errors"
      ]
    },
    {
      "cell_type": "markdown",
      "id": "1f9f4253-ca04-4123-94be-da3de0bd90b3",
      "metadata": {
        "id": "1f9f4253-ca04-4123-94be-da3de0bd90b3"
      },
      "source": [
        "<hr>\n",
        "\n",
        "## Performing forecasting and evaluating the model and outputs.\n",
        "\n",
        "Similar to ARIMA we can make forecasts in 2 ways.\n",
        "\n",
        "### Making predictions using the trained model\n",
        "1. Prediction with refitting\n",
        "\n",
        "In this method, we make forecast for next step using the trained model. Then, when we get the observation for next step, we update the training data with this new observation.\n",
        "And finally we retrain the model to update the parameters and make prediction for next step.\n",
        "\n",
        "\n",
        "2. Rolling foreast\n",
        "\n",
        "In this method, given the test data for next steps, the model makes next prediction, then it dynamically uses the corresponding observaed values from test data, calculates residuals and uses this information to make further predictions.  \n"
      ]
    },
    {
      "cell_type": "code",
      "execution_count": 12,
      "id": "1af056e1-85a3-4662-8708-3b0bc1de2708",
      "metadata": {
        "id": "1af056e1-85a3-4662-8708-3b0bc1de2708",
        "outputId": "8d5e8fc5-5e72-4ab2-dc5e-9efb5d768ca0",
        "colab": {
          "base_uri": "https://localhost:8080/"
        }
      },
      "outputs": [
        {
          "output_type": "stream",
          "name": "stdout",
          "text": [
            "0/20 done\n",
            "1/20 done\n",
            "2/20 done\n",
            "3/20 done\n",
            "4/20 done\n",
            "5/20 done\n",
            "6/20 done\n",
            "7/20 done\n",
            "8/20 done\n",
            "9/20 done\n",
            "10/20 done\n",
            "11/20 done\n",
            "12/20 done\n",
            "13/20 done\n",
            "14/20 done\n",
            "15/20 done\n",
            "16/20 done\n",
            "17/20 done\n",
            "18/20 done\n",
            "19/20 done\n"
          ]
        }
      ],
      "source": [
        "# Method 1\n",
        "predicted_values = []\n",
        "observed_values = []\n",
        "\n",
        "history = train.copy()\n",
        "\n",
        "# This method is slow, we will make prediction for next 20 steps only\n",
        "test_subset = test[:20]\n",
        "\n",
        "model_fit1 = copy.deepcopy(model_fit)\n",
        "\n",
        "for i in range(len(test_subset)):\n",
        "    # make prediction for next timestep\n",
        "\n",
        "    prediction = model_fit1.forecast(steps=1)[0]\n",
        "\n",
        "    idx = test_subset.index[i]\n",
        "\n",
        "    # observed value at next timestep\n",
        "    observation = test_subset.iloc[i]\n",
        "\n",
        "    # update training data\n",
        "    history.loc[idx] = observation\n",
        "\n",
        "    model = ARIMA(history, order=ORDER, seasonal_order=SEASONAL_ORDER, freq='1h')\n",
        "    model_fit1 = model.fit(method='innovations_mle', low_memory=True, cov_type='none')\n",
        "\n",
        "    predicted_values.append(prediction)\n",
        "    observed_values.append(observation)\n",
        "    print(f'{i}/{len(test_subset)} done')\n"
      ]
    },
    {
      "cell_type": "markdown",
      "id": "8779cad1-f4d2-443c-a1fd-bc7f6c38cfae",
      "metadata": {
        "id": "8779cad1-f4d2-443c-a1fd-bc7f6c38cfae"
      },
      "source": [
        "Next, we will perform rolling forecast. In this approach we won't retrain the model each time but provide last observed <br>value to the model in each step.\n",
        "It updates the previous vaues and residuals but parameters are not updated.\n",
        "\n",
        "`append` method\n",
        "\n",
        "\"Recreate the results object with new data appended to the original data.\n",
        "Creates a new result object <br>applied to a dataset that is created by appending new data to the end of the model’s original data. <br>The new results can then be used for analysis or forecasting.\" **-- from documentation**"
      ]
    },
    {
      "cell_type": "markdown",
      "id": "98fab832-1811-40c8-8261-a2c32ffc8202",
      "metadata": {
        "id": "98fab832-1811-40c8-8261-a2c32ffc8202"
      },
      "source": [
        "### Method 2\n"
      ]
    },
    {
      "cell_type": "code",
      "execution_count": 13,
      "id": "6a78635e-c6b9-4bcd-8286-5b6bf55fb27c",
      "metadata": {
        "id": "6a78635e-c6b9-4bcd-8286-5b6bf55fb27c"
      },
      "outputs": [],
      "source": [
        "# to compare between the results obtained above, we will just compute for 20 steps\n",
        "# rolling evaluation\n",
        "\n",
        "# append method documentation\n",
        "# url: https://www.statsmodels.org/stable/generated/statsmodels.tsa.arima.model.ARIMAResults.append.html\n",
        "\n",
        "\n",
        "# Method 2\n",
        "predicted_values2 = []\n",
        "observed_values2 = []\n",
        "\n",
        "test_subset = test[:20]\n",
        "\n",
        "model_fit2 = copy.deepcopy(model_fit)\n",
        "\n",
        "for i in range(len(test_subset)):\n",
        "    # make prediction for next timestep\n",
        "\n",
        "    prediction = model_fit2.forecast(steps=1)[0]\n",
        "\n",
        "    idx = test_subset.index[i]\n",
        "\n",
        "    # observed value at next timestep\n",
        "    observation = test_subset.iloc[i]\n",
        "\n",
        "    # add the observed value to the model\n",
        "    model_fit2 = model_fit2.append([observation], refit=False)\n",
        "\n",
        "    predicted_values2.append(prediction)\n",
        "    observed_values2.append(observation)\n",
        "\n",
        "\n",
        "\n",
        "#prediction_subset = model_fit.predict(start=test_subset.index[0], end=test_subset.index[-1], dynamic=True)"
      ]
    },
    {
      "cell_type": "markdown",
      "id": "dd33fbf0-9e9e-41f8-911f-573f085f0571",
      "metadata": {
        "id": "dd33fbf0-9e9e-41f8-911f-573f085f0571"
      },
      "source": [
        "<hr>\n",
        "\n",
        "Let's calculate how the model did by calculating the metrics. We will compute\n",
        "\n",
        "- Mean Absolute Error(MAE)\n",
        "- Nash Sutcliffe Efficiency (NSE) Coefficent\n",
        "- Weighted Percentage Error (WAPE)"
      ]
    },
    {
      "cell_type": "code",
      "execution_count": 14,
      "id": "e94859e4-23b9-4733-bf0b-6953ffef484e",
      "metadata": {
        "id": "e94859e4-23b9-4733-bf0b-6953ffef484e"
      },
      "outputs": [],
      "source": [
        "from sklearn.metrics import mean_absolute_error\n",
        "\n",
        "import numpy as np\n",
        "\n",
        "epsilon = np.finfo(float).eps\n",
        "\n",
        "def WAPE(y, y_pred):\n",
        "    \"\"\"Weighted Average Percentage Error metric in the interval [0; 100]\"\"\"\n",
        "    nominator = np.sum(np.abs(np.subtract(y, y_pred)))\n",
        "    denominator = np.add(np.sum(np.abs(y)), epsilon)\n",
        "    wape = np.divide(nominator, denominator)*100.0\n",
        "    return wape\n",
        "\n",
        "def NSE(y, y_pred):\n",
        "    return (1-(np.sum((y_pred-y)**2)/np.sum((y-np.mean(y))**2)))"
      ]
    },
    {
      "cell_type": "markdown",
      "id": "047d7d3f-e411-4bed-9dc7-74a7f95bbee7",
      "metadata": {
        "id": "047d7d3f-e411-4bed-9dc7-74a7f95bbee7"
      },
      "source": [
        "Following method executes the above functions and print results.\n",
        "\n",
        "Before executing, it's important to make sure that input vectors are 1D numpy arrays."
      ]
    },
    {
      "cell_type": "code",
      "execution_count": 15,
      "id": "cc08b5c6-7e08-4bf6-9ee8-1d1168f8caa0",
      "metadata": {
        "id": "cc08b5c6-7e08-4bf6-9ee8-1d1168f8caa0"
      },
      "outputs": [],
      "source": [
        "def evaluate(test_subset, prediction_subset):\n",
        "\n",
        "    test_subset = np.array(test_subset).flatten()\n",
        "    prediction_subset = np.array(prediction_subset).flatten()\n",
        "\n",
        "    mae = mean_absolute_error(test_subset, prediction_subset)\n",
        "    nse = NSE(test_subset, prediction_subset)\n",
        "    wape = WAPE(test_subset, prediction_subset)\n",
        "\n",
        "    print(f'MAE: {mae:.2f}\\nNSE: {nse}\\nWAPE: {wape}')\n",
        "    return (nse, mae, wape)"
      ]
    },
    {
      "cell_type": "code",
      "execution_count": 16,
      "id": "2409844c-3d7f-4bd2-968d-a88fc817e19a",
      "metadata": {
        "id": "2409844c-3d7f-4bd2-968d-a88fc817e19a",
        "outputId": "65af77c9-c5fc-409a-b9d8-17c8f927e72f",
        "colab": {
          "base_uri": "https://localhost:8080/"
        }
      },
      "outputs": [
        {
          "output_type": "stream",
          "name": "stdout",
          "text": [
            "Rolling evaluation\n",
            "MAE: 0.09\n",
            "NSE: 0.9184289043107299\n",
            "WAPE: 1.6030331629736538\n",
            "\n",
            "Retraining each time\n",
            "MAE: 0.09\n",
            "NSE: 0.9169098384947292\n",
            "WAPE: 1.6008694629520905\n"
          ]
        },
        {
          "output_type": "execute_result",
          "data": {
            "text/plain": [
              "(np.float64(0.9169098384947292),\n",
              " 0.08566052387573767,\n",
              " np.float64(1.6008694629520905))"
            ]
          },
          "metadata": {},
          "execution_count": 16
        }
      ],
      "source": [
        "print(\"Rolling evaluation\")\n",
        "evaluate(observed_values2, predicted_values2)\n",
        "\n",
        "print(\"\\nRetraining each time\")\n",
        "evaluate(observed_values, predicted_values)"
      ]
    },
    {
      "cell_type": "markdown",
      "id": "c3c60447-93cb-4b30-b404-3ed40e0d9056",
      "metadata": {
        "id": "c3c60447-93cb-4b30-b404-3ed40e0d9056"
      },
      "source": [
        "**Here we evaluate the model for all of the test data.**"
      ]
    },
    {
      "cell_type": "code",
      "execution_count": 17,
      "id": "26bb97cb-8304-4ac1-911a-fdf0a97de6a9",
      "metadata": {
        "id": "26bb97cb-8304-4ac1-911a-fdf0a97de6a9",
        "outputId": "a123624e-adbd-437c-e65a-89a835c256a5",
        "colab": {
          "base_uri": "https://localhost:8080/"
        }
      },
      "outputs": [
        {
          "output_type": "stream",
          "name": "stdout",
          "text": [
            "0/1463 done\n",
            "100/1463 done\n",
            "200/1463 done\n",
            "300/1463 done\n",
            "400/1463 done\n",
            "500/1463 done\n",
            "600/1463 done\n",
            "700/1463 done\n",
            "800/1463 done\n",
            "900/1463 done\n",
            "1000/1463 done\n",
            "1100/1463 done\n",
            "1200/1463 done\n",
            "1300/1463 done\n",
            "1400/1463 done\n"
          ]
        }
      ],
      "source": [
        "def make_predictions(test, model):\n",
        "    predicted_values = []\n",
        "\n",
        "    for i in range(len(test)):\n",
        "        # make prediction for next timestep\n",
        "\n",
        "        prediction = model.forecast(steps=1)[0]\n",
        "\n",
        "        idx = test.index[i]\n",
        "\n",
        "        # observed value at next timestep\n",
        "        observation = test.iloc[i]\n",
        "\n",
        "        model = model.append([observation], refit=False)\n",
        "\n",
        "        predicted_values.append(prediction)\n",
        "        if(i % 100 == 0):\n",
        "            print(f'{i}/{len(test)} done')\n",
        "\n",
        "    return predicted_values\n",
        "\n",
        "\n",
        "predictions = make_predictions(test, copy.deepcopy(model_fit))\n"
      ]
    },
    {
      "cell_type": "code",
      "execution_count": 18,
      "id": "1ef5ad02-f4a2-417b-b664-38054ca47495",
      "metadata": {
        "id": "1ef5ad02-f4a2-417b-b664-38054ca47495",
        "outputId": "fd36432e-59e3-4cfe-d048-c9b44840554c",
        "colab": {
          "base_uri": "https://localhost:8080/"
        }
      },
      "outputs": [
        {
          "output_type": "stream",
          "name": "stdout",
          "text": [
            "MAE: 0.04\n",
            "NSE: 0.9976006481724252\n",
            "WAPE: 0.733645596708672\n"
          ]
        }
      ],
      "source": [
        "nse, mae, wape = evaluate(test, predictions)"
      ]
    },
    {
      "cell_type": "code",
      "execution_count": 19,
      "id": "d84dbc5c-84a3-43ad-8444-ee70ef76a5ff",
      "metadata": {
        "id": "d84dbc5c-84a3-43ad-8444-ee70ef76a5ff",
        "outputId": "556565fc-9a98-4fb4-a8ac-3081bedb0480",
        "colab": {
          "base_uri": "https://localhost:8080/",
          "height": 430
        }
      },
      "outputs": [
        {
          "output_type": "display_data",
          "data": {
            "text/plain": [
              "<Figure size 640x480 with 1 Axes>"
            ],
            "image/png": "[encoded data removed]"
          },
          "metadata": {}
        }
      ],
      "source": [
        "x = range(len(test))\n",
        "\n",
        "# add evaluation results in the graph itself\n",
        "\n",
        "plt.plot(np.array(test[:100]), color='green', label='observations')\n",
        "plt.plot(np.array(predictions[:100]), color='red', linestyle='-', label='predictions')\n",
        "metrics_text = f\"NSE: {nse:.3f}\\nMAE: {mae:.3f}\\nWAPE: {wape:.3f}\"\n",
        "plt.text(0.28, 0.97, metrics_text, transform=plt.gca().transAxes,\n",
        "         fontsize=12, verticalalignment='top', bbox=dict(boxstyle='round', facecolor='wheat', alpha=0.5))\n",
        "\n",
        "plt.legend()\n",
        "plt.show()"
      ]
    },
    {
      "cell_type": "code",
      "execution_count": null,
      "id": "727c3fa3-7d3f-4a94-822b-5915ac161d0c",
      "metadata": {
        "id": "727c3fa3-7d3f-4a94-822b-5915ac161d0c"
      },
      "outputs": [],
      "source": []
    }
  ],
  "metadata": {
    "kernelspec": {
      "display_name": "Python 3 (ipykernel)",
      "language": "python",
      "name": "python3"
    },
    "language_info": {
      "codemirror_mode": {
        "name": "ipython",
        "version": 3
      },
      "file_extension": ".py",
      "mimetype": "text/x-python",
      "name": "python",
      "nbconvert_exporter": "python",
      "pygments_lexer": "ipython3",
      "version": "3.12.6"
    },
    "colab": {
      "provenance": []
    }
  },
  "nbformat": 4,
  "nbformat_minor": 5
}