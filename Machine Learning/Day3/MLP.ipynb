{
  "cells": [
    {
      "cell_type": "markdown",
      "id": "9ccae883-1904-48a6-81b3-d0228caeab1f",
      "metadata": {
        "id": "9ccae883-1904-48a6-81b3-d0228caeab1f"
      },
      "source": [
        "### Multivariate time series prediction using MLP\n",
        "\n",
        "\n",
        "Here is a PyTorch implementation of a fully connected neural network which has in total 4 fully connected layers. This is a fully connected\n",
        "neural network model to be used for multivariate time series prediction. The model has following configurations.\n",
        "\n",
        "- Number of Layers : 4 (overall).\n",
        "- Sequence Length (Lookback window) : 13 (hours)\n",
        "- Prediction Length : 1 (hour)\n",
        "- Number of features : 7\n",
        "\n",
        "How does it work:\n",
        "\n",
        "- Single input: 7 x 13 matrix (features x sequence length)\n",
        "- Single output: 1 (gauge height in next hour)\n",
        "\n",
        "Note: Biases exist but are not mentioned below for simplcity.\n",
        "\n",
        "- First Layer: 7 x 13 (matrix) x 13 x 100 (weight matrix) => 7 x 100 (output)\n",
        "- Second Layer: 7 x 100 (from last layer) x 100 x 1 (weight matrix) => 7 x 1 (output)\n",
        "- Transpose: 1 x 7\n",
        "- Third Layer: 1 x 7 (from last layer after transposing) x 7 x 20 (weight matrix) => 1 x 20\n",
        "- Fourth Layer: 1 x 20 (from last layer) x 20 x 1 (weight matrix) => 1 x 1 (essentially one value)\n",
        "\n",
        "The network uses ReLU as activation function at the output of each layer except the final layer.\n",
        "It uses Mean Square Error (MSELoss) to calculate the model loss.\n",
        "NSE and WAPE are used for model evaluation.\n",
        "Data: It uses hourly gauge height data. The data is normalized using MinMaxScaler. It is divided in the ration of 7:1:2 for training, validation and testing respectively.\n",
        "\n",
        "\n",
        "\n",
        "<i>Important Note: This is a simple FCN network. It is supposed to teach you about simple neural networks. In reality, it doesn't capture the timeseries data well, it's not designed to do so. There exists MLP based networks like N-BEATS, N-HiTS, TiDE, TCN,etc that are more specifically designed to do time series prediction. Please look them up if you want to use MLP based neural networks for time series prediction.</i>"
      ]
    },
    {
      "cell_type": "code",
      "execution_count": 17,
      "id": "4117e9d0-7925-4788-bbe1-28c60c80bb56",
      "metadata": {
        "id": "4117e9d0-7925-4788-bbe1-28c60c80bb56"
      },
      "outputs": [],
      "source": [
        "## Write the above description in more organized way, like\n",
        "# No. of layers =  4\n",
        "# Sequence length = 24, etc.\n",
        "\n",
        "import torch\n",
        "import numpy as np\n",
        "import matplotlib.pyplot as plt\n",
        "\n",
        "import pandas as pd\n",
        "from sklearn.preprocessing import MinMaxScaler\n"
      ]
    },
    {
      "cell_type": "code",
      "source": [
        "from google.colab import files\n",
        "uploaded = files.upload()\n",
        "\n",
        "#you do not need this is if you just drag the file or upload it in the folder"
      ],
      "metadata": {
        "colab": {
          "base_uri": "https://localhost:8080/",
          "height": 73
        },
        "id": "nbubKFvNJ4K7",
        "outputId": "47b394b1-8562-4ee2-9989-8a908afe4252"
      },
      "id": "nbubKFvNJ4K7",
      "execution_count": 22,
      "outputs": [
        {
          "output_type": "display_data",
          "data": {
            "text/plain": [
              "<IPython.core.display.HTML object>"
            ],
            "text/html": [
              "\n",
              "     <input type=\"file\" id=\"files-3cefab7f-718b-4898-b3d1-5cbaccc61561\" name=\"files[]\" multiple disabled\n",
              "        style=\"border:none\" />\n",
              "     <output id=\"result-3cefab7f-718b-4898-b3d1-5cbaccc61561\">\n",
              "      Upload widget is only available when the cell has been executed in the\n",
              "      current browser session. Please rerun this cell to enable.\n",
              "      </output>\n",
              "      <script>// Copyright 2017 Google LLC\n",
              "//\n",
              "// Licensed under the Apache License, Version 2.0 (the \"License\");\n",
              "// you may not use this file except in compliance with the License.\n",
              "// You may obtain a copy of the License at\n",
              "//\n",
              "//      http://www.apache.org/licenses/LICENSE-2.0\n",
              "//\n",
              "// Unless required by applicable law or agreed to in writing, software\n",
              "// distributed under the License is distributed on an \"AS IS\" BASIS,\n",
              "// WITHOUT WARRANTIES OR CONDITIONS OF ANY KIND, either express or implied.\n",
              "// See the License for the specific language governing permissions and\n",
              "// limitations under the License.\n",
              "\n",
              "/**\n",
              " * @fileoverview Helpers for google.colab Python module.\n",
              " */\n",
              "(function(scope) {\n",
              "function span(text, styleAttributes = {}) {\n",
              "  const element = document.createElement('span');\n",
              "  element.textContent = text;\n",
              "  for (const key of Object.keys(styleAttributes)) {\n",
              "    element.style[key] = styleAttributes[key];\n",
              "  }\n",
              "  return element;\n",
              "}\n",
              "\n",
              "// Max number of bytes which will be uploaded at a time.\n",
              "const MAX_PAYLOAD_SIZE = 100 * 1024;\n",
              "\n",
              "function _uploadFiles(inputId, outputId) {\n",
              "  const steps = uploadFilesStep(inputId, outputId);\n",
              "  const outputElement = document.getElementById(outputId);\n",
              "  // Cache steps on the outputElement to make it available for the next call\n",
              "  // to uploadFilesContinue from Python.\n",
              "  outputElement.steps = steps;\n",
              "\n",
              "  return _uploadFilesContinue(outputId);\n",
              "}\n",
              "\n",
              "// This is roughly an async generator (not supported in the browser yet),\n",
              "// where there are multiple asynchronous steps and the Python side is going\n",
              "// to poll for completion of each step.\n",
              "// This uses a Promise to block the python side on completion of each step,\n",
              "// then passes the result of the previous step as the input to the next step.\n",
              "function _uploadFilesContinue(outputId) {\n",
              "  const outputElement = document.getElementById(outputId);\n",
              "  const steps = outputElement.steps;\n",
              "\n",
              "  const next = steps.next(outputElement.lastPromiseValue);\n",
              "  return Promise.resolve(next.value.promise).then((value) => {\n",
              "    // Cache the last promise value to make it available to the next\n",
              "    // step of the generator.\n",
              "    outputElement.lastPromiseValue = value;\n",
              "    return next.value.response;\n",
              "  });\n",
              "}\n",
              "\n",
              "/**\n",
              " * Generator function which is called between each async step of the upload\n",
              " * process.\n",
              " * @param {string} inputId Element ID of the input file picker element.\n",
              " * @param {string} outputId Element ID of the output display.\n",
              " * @return {!Iterable<!Object>} Iterable of next steps.\n",
              " */\n",
              "function* uploadFilesStep(inputId, outputId) {\n",
              "  const inputElement = document.getElementById(inputId);\n",
              "  inputElement.disabled = false;\n",
              "\n",
              "  const outputElement = document.getElementById(outputId);\n",
              "  outputElement.innerHTML = '';\n",
              "\n",
              "  const pickedPromise = new Promise((resolve) => {\n",
              "    inputElement.addEventListener('change', (e) => {\n",
              "      resolve(e.target.files);\n",
              "    });\n",
              "  });\n",
              "\n",
              "  const cancel = document.createElement('button');\n",
              "  inputElement.parentElement.appendChild(cancel);\n",
              "  cancel.textContent = 'Cancel upload';\n",
              "  const cancelPromise = new Promise((resolve) => {\n",
              "    cancel.onclick = () => {\n",
              "      resolve(null);\n",
              "    };\n",
              "  });\n",
              "\n",
              "  // Wait for the user to pick the files.\n",
              "  const files = yield {\n",
              "    promise: Promise.race([pickedPromise, cancelPromise]),\n",
              "    response: {\n",
              "      action: 'starting',\n",
              "    }\n",
              "  };\n",
              "\n",
              "  cancel.remove();\n",
              "\n",
              "  // Disable the input element since further picks are not allowed.\n",
              "  inputElement.disabled = true;\n",
              "\n",
              "  if (!files) {\n",
              "    return {\n",
              "      response: {\n",
              "        action: 'complete',\n",
              "      }\n",
              "    };\n",
              "  }\n",
              "\n",
              "  for (const file of files) {\n",
              "    const li = document.createElement('li');\n",
              "    li.append(span(file.name, {fontWeight: 'bold'}));\n",
              "    li.append(span(\n",
              "        `(${file.type || 'n/a'}) - ${file.size} bytes, ` +\n",
              "        `last modified: ${\n",
              "            file.lastModifiedDate ? file.lastModifiedDate.toLocaleDateString() :\n",
              "                                    'n/a'} - `));\n",
              "    const percent = span('0% done');\n",
              "    li.appendChild(percent);\n",
              "\n",
              "    outputElement.appendChild(li);\n",
              "\n",
              "    const fileDataPromise = new Promise((resolve) => {\n",
              "      const reader = new FileReader();\n",
              "      reader.onload = (e) => {\n",
              "        resolve(e.target.result);\n",
              "      };\n",
              "      reader.readAsArrayBuffer(file);\n",
              "    });\n",
              "    // Wait for the data to be ready.\n",
              "    let fileData = yield {\n",
              "      promise: fileDataPromise,\n",
              "      response: {\n",
              "        action: 'continue',\n",
              "      }\n",
              "    };\n",
              "\n",
              "    // Use a chunked sending to avoid message size limits. See b/62115660.\n",
              "    let position = 0;\n",
              "    do {\n",
              "      const length = Math.min(fileData.byteLength - position, MAX_PAYLOAD_SIZE);\n",
              "      const chunk = new Uint8Array(fileData, position, length);\n",
              "      position += length;\n",
              "\n",
              "      const base64 = btoa(String.fromCharCode.apply(null, chunk));\n",
              "      yield {\n",
              "        response: {\n",
              "          action: 'append',\n",
              "          file: file.name,\n",
              "          data: base64,\n",
              "        },\n",
              "      };\n",
              "\n",
              "      let percentDone = fileData.byteLength === 0 ?\n",
              "          100 :\n",
              "          Math.round((position / fileData.byteLength) * 100);\n",
              "      percent.textContent = `${percentDone}% done`;\n",
              "\n",
              "    } while (position < fileData.byteLength);\n",
              "  }\n",
              "\n",
              "  // All done.\n",
              "  yield {\n",
              "    response: {\n",
              "      action: 'complete',\n",
              "    }\n",
              "  };\n",
              "}\n",
              "\n",
              "scope.google = scope.google || {};\n",
              "scope.google.colab = scope.google.colab || {};\n",
              "scope.google.colab._files = {\n",
              "  _uploadFiles,\n",
              "  _uploadFilesContinue,\n",
              "};\n",
              "})(self);\n",
              "</script> "
            ]
          },
          "metadata": {}
        },
        {
          "output_type": "stream",
          "name": "stdout",
          "text": [
            "Saving final_data.csv to final_data (1).csv\n"
          ]
        }
      ]
    },
    {
      "cell_type": "code",
      "source": [
        "import pandas as pd\n",
        "\n",
        "df = pd.read_csv(\"final_data.csv\")\n",
        "df.head()\n"
      ],
      "metadata": {
        "colab": {
          "base_uri": "https://localhost:8080/",
          "height": 206
        },
        "id": "DTVFkq-gKFuM",
        "outputId": "84050c5f-f2d4-4b30-b810-d6f9e3bc3194"
      },
      "id": "DTVFkq-gKFuM",
      "execution_count": 23,
      "outputs": [
        {
          "output_type": "execute_result",
          "data": {
            "text/plain": [
              "                  DATE  Precip  WetBulbTemp  DryBulbTemp  RelHumidity  \\\n",
              "0  2008-01-01 01:00:00     0.0         37.0         38.0         89.0   \n",
              "1  2008-01-01 02:00:00     0.0         38.0         39.0         89.0   \n",
              "2  2008-01-01 03:00:00     0.0         38.0         40.0         86.0   \n",
              "3  2008-01-01 04:00:00     0.0         38.0         40.0         86.0   \n",
              "4  2008-01-01 05:00:00     0.0         41.0         45.0         68.0   \n",
              "\n",
              "   WindSpeed  StationPressure  gauge_height  \n",
              "0        0.0            29.19        5.6450  \n",
              "1        5.0            29.18        5.5425  \n",
              "2        5.0            29.18        5.4575  \n",
              "3        6.0            29.19        5.3625  \n",
              "4       11.0            29.21        5.2175  "
            ],
            "text/html": [
              "\n",
              "  <div id=\"df-7ad877c5-2c0e-4684-a0df-b999d665fa2f\" class=\"colab-df-container\">\n",
              "    <div>\n",
              "<style scoped>\n",
              "    .dataframe tbody tr th:only-of-type {\n",
              "        vertical-align: middle;\n",
              "    }\n",
              "\n",
              "    .dataframe tbody tr th {\n",
              "        vertical-align: top;\n",
              "    }\n",
              "\n",
              "    .dataframe thead th {\n",
              "        text-align: right;\n",
              "    }\n",
              "</style>\n",
              "<table border=\"1\" class=\"dataframe\">\n",
              "  <thead>\n",
              "    <tr style=\"text-align: right;\">\n",
              "      <th></th>\n",
              "      <th>DATE</th>\n",
              "      <th>Precip</th>\n",
              "      <th>WetBulbTemp</th>\n",
              "      <th>DryBulbTemp</th>\n",
              "      <th>RelHumidity</th>\n",
              "      <th>WindSpeed</th>\n",
              "      <th>StationPressure</th>\n",
              "      <th>gauge_height</th>\n",
              "    </tr>\n",
              "  </thead>\n",
              "  <tbody>\n",
              "    <tr>\n",
              "      <th>0</th>\n",
              "      <td>2008-01-01 01:00:00</td>\n",
              "      <td>0.0</td>\n",
              "      <td>37.0</td>\n",
              "      <td>38.0</td>\n",
              "      <td>89.0</td>\n",
              "      <td>0.0</td>\n",
              "      <td>29.19</td>\n",
              "      <td>5.6450</td>\n",
              "    </tr>\n",
              "    <tr>\n",
              "      <th>1</th>\n",
              "      <td>2008-01-01 02:00:00</td>\n",
              "      <td>0.0</td>\n",
              "      <td>38.0</td>\n",
              "      <td>39.0</td>\n",
              "      <td>89.0</td>\n",
              "      <td>5.0</td>\n",
              "      <td>29.18</td>\n",
              "      <td>5.5425</td>\n",
              "    </tr>\n",
              "    <tr>\n",
              "      <th>2</th>\n",
              "      <td>2008-01-01 03:00:00</td>\n",
              "      <td>0.0</td>\n",
              "      <td>38.0</td>\n",
              "      <td>40.0</td>\n",
              "      <td>86.0</td>\n",
              "      <td>5.0</td>\n",
              "      <td>29.18</td>\n",
              "      <td>5.4575</td>\n",
              "    </tr>\n",
              "    <tr>\n",
              "      <th>3</th>\n",
              "      <td>2008-01-01 04:00:00</td>\n",
              "      <td>0.0</td>\n",
              "      <td>38.0</td>\n",
              "      <td>40.0</td>\n",
              "      <td>86.0</td>\n",
              "      <td>6.0</td>\n",
              "      <td>29.19</td>\n",
              "      <td>5.3625</td>\n",
              "    </tr>\n",
              "    <tr>\n",
              "      <th>4</th>\n",
              "      <td>2008-01-01 05:00:00</td>\n",
              "      <td>0.0</td>\n",
              "      <td>41.0</td>\n",
              "      <td>45.0</td>\n",
              "      <td>68.0</td>\n",
              "      <td>11.0</td>\n",
              "      <td>29.21</td>\n",
              "      <td>5.2175</td>\n",
              "    </tr>\n",
              "  </tbody>\n",
              "</table>\n",
              "</div>\n",
              "    <div class=\"colab-df-buttons\">\n",
              "\n",
              "  <div class=\"colab-df-container\">\n",
              "    <button class=\"colab-df-convert\" onclick=\"convertToInteractive('df-7ad877c5-2c0e-4684-a0df-b999d665fa2f')\"\n",
              "            title=\"Convert this dataframe to an interactive table.\"\n",
              "            style=\"display:none;\">\n",
              "\n",
              "  <svg xmlns=\"http://www.w3.org/2000/svg\" height=\"24px\" viewBox=\"0 -960 960 960\">\n",
              "    <path d=\"M120-120v-720h720v720H120Zm60-500h600v-160H180v160Zm220 220h160v-160H400v160Zm0 220h160v-160H400v160ZM180-400h160v-160H180v160Zm440 0h160v-160H620v160ZM180-180h160v-160H180v160Zm440 0h160v-160H620v160Z\"/>\n",
              "  </svg>\n",
              "    </button>\n",
              "\n",
              "  <style>\n",
              "    .colab-df-container {\n",
              "      display:flex;\n",
              "      gap: 12px;\n",
              "    }\n",
              "\n",
              "    .colab-df-convert {\n",
              "      background-color: #E8F0FE;\n",
              "      border: none;\n",
              "      border-radius: 50%;\n",
              "      cursor: pointer;\n",
              "      display: none;\n",
              "      fill: #1967D2;\n",
              "      height: 32px;\n",
              "      padding: 0 0 0 0;\n",
              "      width: 32px;\n",
              "    }\n",
              "\n",
              "    .colab-df-convert:hover {\n",
              "      background-color: #E2EBFA;\n",
              "      box-shadow: 0px 1px 2px rgba(60, 64, 67, 0.3), 0px 1px 3px 1px rgba(60, 64, 67, 0.15);\n",
              "      fill: #174EA6;\n",
              "    }\n",
              "\n",
              "    .colab-df-buttons div {\n",
              "      margin-bottom: 4px;\n",
              "    }\n",
              "\n",
              "    [theme=dark] .colab-df-convert {\n",
              "      background-color: #3B4455;\n",
              "      fill: #D2E3FC;\n",
              "    }\n",
              "\n",
              "    [theme=dark] .colab-df-convert:hover {\n",
              "      background-color: #434B5C;\n",
              "      box-shadow: 0px 1px 3px 1px rgba(0, 0, 0, 0.15);\n",
              "      filter: drop-shadow(0px 1px 2px rgba(0, 0, 0, 0.3));\n",
              "      fill: #FFFFFF;\n",
              "    }\n",
              "  </style>\n",
              "\n",
              "    <script>\n",
              "      const buttonEl =\n",
              "        document.querySelector('#df-7ad877c5-2c0e-4684-a0df-b999d665fa2f button.colab-df-convert');\n",
              "      buttonEl.style.display =\n",
              "        google.colab.kernel.accessAllowed ? 'block' : 'none';\n",
              "\n",
              "      async function convertToInteractive(key) {\n",
              "        const element = document.querySelector('#df-7ad877c5-2c0e-4684-a0df-b999d665fa2f');\n",
              "        const dataTable =\n",
              "          await google.colab.kernel.invokeFunction('convertToInteractive',\n",
              "                                                    [key], {});\n",
              "        if (!dataTable) return;\n",
              "\n",
              "        const docLinkHtml = 'Like what you see? Visit the ' +\n",
              "          '<a target=\"_blank\" href=https://colab.research.google.com/notebooks/data_table.ipynb>data table notebook</a>'\n",
              "          + ' to learn more about interactive tables.';\n",
              "        element.innerHTML = '';\n",
              "        dataTable['output_type'] = 'display_data';\n",
              "        await google.colab.output.renderOutput(dataTable, element);\n",
              "        const docLink = document.createElement('div');\n",
              "        docLink.innerHTML = docLinkHtml;\n",
              "        element.appendChild(docLink);\n",
              "      }\n",
              "    </script>\n",
              "  </div>\n",
              "\n",
              "\n",
              "    <div id=\"df-b6612bae-748a-42fd-bb5b-9779fc07ea6f\">\n",
              "      <button class=\"colab-df-quickchart\" onclick=\"quickchart('df-b6612bae-748a-42fd-bb5b-9779fc07ea6f')\"\n",
              "                title=\"Suggest charts\"\n",
              "                style=\"display:none;\">\n",
              "\n",
              "<svg xmlns=\"http://www.w3.org/2000/svg\" height=\"24px\"viewBox=\"0 0 24 24\"\n",
              "     width=\"24px\">\n",
              "    <g>\n",
              "        <path d=\"M19 3H5c-1.1 0-2 .9-2 2v14c0 1.1.9 2 2 2h14c1.1 0 2-.9 2-2V5c0-1.1-.9-2-2-2zM9 17H7v-7h2v7zm4 0h-2V7h2v10zm4 0h-2v-4h2v4z\"/>\n",
              "    </g>\n",
              "</svg>\n",
              "      </button>\n",
              "\n",
              "<style>\n",
              "  .colab-df-quickchart {\n",
              "      --bg-color: #E8F0FE;\n",
              "      --fill-color: #1967D2;\n",
              "      --hover-bg-color: #E2EBFA;\n",
              "      --hover-fill-color: #174EA6;\n",
              "      --disabled-fill-color: #AAA;\n",
              "      --disabled-bg-color: #DDD;\n",
              "  }\n",
              "\n",
              "  [theme=dark] .colab-df-quickchart {\n",
              "      --bg-color: #3B4455;\n",
              "      --fill-color: #D2E3FC;\n",
              "      --hover-bg-color: #434B5C;\n",
              "      --hover-fill-color: #FFFFFF;\n",
              "      --disabled-bg-color: #3B4455;\n",
              "      --disabled-fill-color: #666;\n",
              "  }\n",
              "\n",
              "  .colab-df-quickchart {\n",
              "    background-color: var(--bg-color);\n",
              "    border: none;\n",
              "    border-radius: 50%;\n",
              "    cursor: pointer;\n",
              "    display: none;\n",
              "    fill: var(--fill-color);\n",
              "    height: 32px;\n",
              "    padding: 0;\n",
              "    width: 32px;\n",
              "  }\n",
              "\n",
              "  .colab-df-quickchart:hover {\n",
              "    background-color: var(--hover-bg-color);\n",
              "    box-shadow: 0 1px 2px rgba(60, 64, 67, 0.3), 0 1px 3px 1px rgba(60, 64, 67, 0.15);\n",
              "    fill: var(--button-hover-fill-color);\n",
              "  }\n",
              "\n",
              "  .colab-df-quickchart-complete:disabled,\n",
              "  .colab-df-quickchart-complete:disabled:hover {\n",
              "    background-color: var(--disabled-bg-color);\n",
              "    fill: var(--disabled-fill-color);\n",
              "    box-shadow: none;\n",
              "  }\n",
              "\n",
              "  .colab-df-spinner {\n",
              "    border: 2px solid var(--fill-color);\n",
              "    border-color: transparent;\n",
              "    border-bottom-color: var(--fill-color);\n",
              "    animation:\n",
              "      spin 1s steps(1) infinite;\n",
              "  }\n",
              "\n",
              "  @keyframes spin {\n",
              "    0% {\n",
              "      border-color: transparent;\n",
              "      border-bottom-color: var(--fill-color);\n",
              "      border-left-color: var(--fill-color);\n",
              "    }\n",
              "    20% {\n",
              "      border-color: transparent;\n",
              "      border-left-color: var(--fill-color);\n",
              "      border-top-color: var(--fill-color);\n",
              "    }\n",
              "    30% {\n",
              "      border-color: transparent;\n",
              "      border-left-color: var(--fill-color);\n",
              "      border-top-color: var(--fill-color);\n",
              "      border-right-color: var(--fill-color);\n",
              "    }\n",
              "    40% {\n",
              "      border-color: transparent;\n",
              "      border-right-color: var(--fill-color);\n",
              "      border-top-color: var(--fill-color);\n",
              "    }\n",
              "    60% {\n",
              "      border-color: transparent;\n",
              "      border-right-color: var(--fill-color);\n",
              "    }\n",
              "    80% {\n",
              "      border-color: transparent;\n",
              "      border-right-color: var(--fill-color);\n",
              "      border-bottom-color: var(--fill-color);\n",
              "    }\n",
              "    90% {\n",
              "      border-color: transparent;\n",
              "      border-bottom-color: var(--fill-color);\n",
              "    }\n",
              "  }\n",
              "</style>\n",
              "\n",
              "      <script>\n",
              "        async function quickchart(key) {\n",
              "          const quickchartButtonEl =\n",
              "            document.querySelector('#' + key + ' button');\n",
              "          quickchartButtonEl.disabled = true;  // To prevent multiple clicks.\n",
              "          quickchartButtonEl.classList.add('colab-df-spinner');\n",
              "          try {\n",
              "            const charts = await google.colab.kernel.invokeFunction(\n",
              "                'suggestCharts', [key], {});\n",
              "          } catch (error) {\n",
              "            console.error('Error during call to suggestCharts:', error);\n",
              "          }\n",
              "          quickchartButtonEl.classList.remove('colab-df-spinner');\n",
              "          quickchartButtonEl.classList.add('colab-df-quickchart-complete');\n",
              "        }\n",
              "        (() => {\n",
              "          let quickchartButtonEl =\n",
              "            document.querySelector('#df-b6612bae-748a-42fd-bb5b-9779fc07ea6f button');\n",
              "          quickchartButtonEl.style.display =\n",
              "            google.colab.kernel.accessAllowed ? 'block' : 'none';\n",
              "        })();\n",
              "      </script>\n",
              "    </div>\n",
              "\n",
              "    </div>\n",
              "  </div>\n"
            ],
            "application/vnd.google.colaboratory.intrinsic+json": {
              "type": "dataframe",
              "variable_name": "df"
            }
          },
          "metadata": {},
          "execution_count": 23
        }
      ]
    },
    {
      "cell_type": "code",
      "execution_count": 27,
      "id": "8af4f85b-3822-4288-9566-0f0ac0cfa053",
      "metadata": {
        "id": "8af4f85b-3822-4288-9566-0f0ac0cfa053"
      },
      "outputs": [],
      "source": [
        "# Use hourly data, use a subset to reduce the datasize\n",
        "path = \"final_data.csv\"\n",
        "\n",
        "#path = 'C/Users/arezaie/Downloads/final_data.csv'\n"
      ]
    },
    {
      "cell_type": "code",
      "execution_count": 28,
      "id": "fc9eb646-4308-449c-84c0-00cd1de182c2",
      "metadata": {
        "colab": {
          "base_uri": "https://localhost:8080/"
        },
        "id": "fc9eb646-4308-449c-84c0-00cd1de182c2",
        "outputId": "4c4ca965-3247-487a-cb10-dd4215e651f6"
      },
      "outputs": [
        {
          "output_type": "execute_result",
          "data": {
            "text/plain": [
              "<torch._C.Generator at 0x7ee8f713d4b0>"
            ]
          },
          "metadata": {},
          "execution_count": 28
        }
      ],
      "source": [
        "# Implement determinism. Set a fixed value for random seed so that when the parameters are initialized, they are initialized same across all experiments.\n",
        "torch.manual_seed(42)"
      ]
    },
    {
      "cell_type": "markdown",
      "id": "0600e784-ec1c-4ab8-ab6b-9b765b4dee83",
      "metadata": {
        "id": "0600e784-ec1c-4ab8-ab6b-9b765b4dee83"
      },
      "source": [
        "Here we define **RiverData** a custom Dataset class to load the dataset we have. It extends the pytorch's **Dataset** class.  \n",
        "- We need to define \\_\\_init__() function which can be used for loading data from file and optionally for data preprocessing.\n",
        "- Thereafter we define \\_\\_len__() function which gives the length of dataset.\n",
        "- Then we define \\_\\_getitem__() function which returns an instance of (feature, label) tuple which can be used for model training.\n",
        "  For our time series data, feature means the past values to be used for training and label means the future values to be predicted."
      ]
    },
    {
      "cell_type": "code",
      "execution_count": 29,
      "id": "742b694d-9966-4fd3-bca7-51f398a8775f",
      "metadata": {
        "id": "742b694d-9966-4fd3-bca7-51f398a8775f"
      },
      "outputs": [],
      "source": [
        "# we need to put in pre-requisite the knowledge for object oriented programming\n",
        "# send emails to partcipants to go through it.\n",
        "\n",
        "class RiverData(torch.utils.data.Dataset):\n",
        "\n",
        "    def __init__(self, df, target, datecol, seq_len, pred_len):\n",
        "        self.df = df\n",
        "        self.datecol = datecol\n",
        "        self.target = target\n",
        "        self.seq_len = seq_len\n",
        "        self.pred_len = pred_len\n",
        "        self.setIndex()\n",
        "\n",
        "\n",
        "    def setIndex(self):\n",
        "        self.df.set_index(self.datecol, inplace=True)\n",
        "\n",
        "\n",
        "    def __len__(self):\n",
        "        return len(self.df) - self.seq_len - self.pred_len\n",
        "\n",
        "\n",
        "    def __getitem__(self, idx):\n",
        "        if len(self.df) <= (idx + self.seq_len+self.pred_len):\n",
        "            raise IndexError(f\"Index {idx} is out of bounds for dataset of size {len(self.df)}\")\n",
        "        df_piece = self.df[idx:idx+self.seq_len].values\n",
        "        feature = torch.tensor(df_piece, dtype=torch.float32)\n",
        "        label_piece = self.df[self.target][idx + self.seq_len:  idx+self.seq_len+self.pred_len].values\n",
        "        label = torch.tensor(label_piece, dtype=torch.float32)\n",
        "        return (feature.T, label)"
      ]
    },
    {
      "cell_type": "markdown",
      "id": "60c24959-e72f-435d-8a14-69a648fa5ab1",
      "metadata": {
        "id": "60c24959-e72f-435d-8a14-69a648fa5ab1"
      },
      "source": [
        "### Normalize the data"
      ]
    },
    {
      "cell_type": "code",
      "execution_count": 30,
      "id": "46d897d9-946e-4bbe-90a6-cc8d8a223c3f",
      "metadata": {
        "id": "46d897d9-946e-4bbe-90a6-cc8d8a223c3f"
      },
      "outputs": [],
      "source": [
        "df = pd.read_csv(path)\n",
        "df.reset_index(inplace=True)\n",
        "df = df[df['DATE'] > '2012']\n",
        "\n",
        "df.drop('index', axis=1, inplace=True)\n",
        "raw_df = df.drop('DATE', axis=1, inplace=False)\n",
        "scaler = MinMaxScaler()\n",
        "\n",
        "# Apply the transformations\n",
        "df_scaled = scaler.fit_transform(raw_df)\n",
        "\n",
        "df_scaled = pd.DataFrame(df_scaled, columns=raw_df.columns)\n",
        "df_scaled['DATE'] = df['DATE']\n",
        "df = df_scaled"
      ]
    },
    {
      "cell_type": "code",
      "execution_count": null,
      "id": "6d68a3fc-bfd6-44dd-adfc-211550c864ab",
      "metadata": {
        "id": "6d68a3fc-bfd6-44dd-adfc-211550c864ab"
      },
      "outputs": [],
      "source": []
    },
    {
      "cell_type": "markdown",
      "id": "3a4781c6-88ed-4b28-aa0e-f669bf7c75f5",
      "metadata": {
        "id": "3a4781c6-88ed-4b28-aa0e-f669bf7c75f5"
      },
      "source": [
        "Some advanced python syntax have been used here \\\n",
        "*common_args : it's used to pass arguments to a function, where common_args represents a python list \\\n",
        "**common_args: it's used to pass arguments to a function, where common_args represents a python dictionary"
      ]
    },
    {
      "cell_type": "code",
      "execution_count": 31,
      "id": "9e63a535-a817-4429-be17-f3e3a02e4f73",
      "metadata": {
        "id": "9e63a535-a817-4429-be17-f3e3a02e4f73"
      },
      "outputs": [],
      "source": [
        "# Ratio for train:test:validation is 7:2:1\n",
        "# we can vary it depending on the dataset\n",
        "\n",
        "train_size = int(0.7 * len(df))\n",
        "test_size = int(0.2 * len(df))\n",
        "val_size = len(df) - train_size - test_size\n",
        "\n",
        "seq_len = 13\n",
        "pred_len = 1\n",
        "num_features = 7\n",
        "\n",
        "common_args = ['gauge_height', 'DATE', seq_len, pred_len]\n",
        "train_dataset = RiverData(df[:train_size], *common_args)\n",
        "val_dataset = RiverData(df[train_size: train_size+val_size], *common_args)\n",
        "test_dataset = RiverData(df[train_size+val_size : len(df)], *common_args)\n"
      ]
    },
    {
      "cell_type": "code",
      "execution_count": 32,
      "id": "501879b1-dd1c-4ff0-afb3-ff25a345df05",
      "metadata": {
        "id": "501879b1-dd1c-4ff0-afb3-ff25a345df05"
      },
      "outputs": [],
      "source": [
        "# Important hyperparameters\n",
        "\n",
        "BATCH_SIZE = 512 # keep as big as can be handled by GPU and memory\n",
        "SHUFFLE = False # we don't shuffle the time series data\n",
        "DATA_LOAD_WORKERS = 1 # it depends on amount of data you need to load\n",
        "learning_rate = 1e-3 # Learning rate"
      ]
    },
    {
      "cell_type": "code",
      "execution_count": 33,
      "id": "ae359aec-9435-4229-8587-5f120b0370b3",
      "metadata": {
        "id": "ae359aec-9435-4229-8587-5f120b0370b3"
      },
      "outputs": [],
      "source": [
        "from torch.utils.data import DataLoader\n",
        "\n",
        "common_args = {'batch_size': BATCH_SIZE, 'shuffle': SHUFFLE}\n",
        "train_loader = DataLoader(train_dataset, **common_args)\n",
        "val_loader = DataLoader(val_dataset, **common_args)\n",
        "test_loader = DataLoader(test_dataset, **common_args)"
      ]
    },
    {
      "cell_type": "markdown",
      "id": "bc7ac35c-8ecc-4ab7-a97c-0cb4d59bc624",
      "metadata": {
        "id": "bc7ac35c-8ecc-4ab7-a97c-0cb4d59bc624"
      },
      "source": [
        "### Here we define our pytorch model.\n",
        "\n",
        "BasicMLPNetwork is the model class, it extends the **Module** class provided by pytorch. \\\n",
        "- We define \\_\\_init__() function. It sets up layers and defines the model parameters.\n",
        "- Also, we define forward() function which defines how the forwared pass computation occurs"
      ]
    },
    {
      "cell_type": "code",
      "execution_count": 34,
      "id": "f9b72d79-65b6-4fd0-9d0b-025c2a0fc293",
      "metadata": {
        "id": "f9b72d79-65b6-4fd0-9d0b-025c2a0fc293"
      },
      "outputs": [],
      "source": [
        "class BasicMLPNetwork(torch.nn.Module):\n",
        "\n",
        "    def __init__(self, seq_len, pred_len):\n",
        "        # call the constructor of the base class\n",
        "        super().__init__()\n",
        "        self.seq_len = seq_len\n",
        "        self.pred_len = pred_len\n",
        "        self.num_features = num_features\n",
        "        hidden_size_time = 100\n",
        "        hidden_size_feat = 20\n",
        "        # define layers for combining across time series\n",
        "        self.fc1 = torch.nn.Linear(self.seq_len, hidden_size_time)\n",
        "        self.relu = torch.nn.ReLU()\n",
        "        self.fc2 = torch.nn.Linear(hidden_size_time, self.pred_len)\n",
        "\n",
        "        # define layers for combining across the features\n",
        "        self.fc3 = torch.nn.Linear(self.num_features, hidden_size_feat)\n",
        "        self.fc4 = torch.nn.Linear(hidden_size_feat, 1)\n",
        "\n",
        "    def forward(self, x):\n",
        "\n",
        "        # computation over time\n",
        "        out = self.fc1(x) #  7 x 100\n",
        "        out = self.relu(out)\n",
        "        out = self.fc2(out) # 7 x 1\n",
        "        out = self.relu(out)\n",
        "\n",
        "        # computation over features\n",
        "        out = out.transpose(1,2) # dimension 1 x 7\n",
        "        out = self.fc3(out) # dimension 1 x 7 x 7 x 20 =  1 x 20\n",
        "        out = self.relu(out)\n",
        "        out = self.fc4(out) # dimension 1 x 20 x 20 x 1 = 1 x 1\n",
        "\n",
        "        out = out.squeeze(-1) # output 1 value\n",
        "\n",
        "        return out\n",
        "\n",
        "# Note that the gradients are stored insize the FC layer objects\n",
        "# For each training example we need to get rid of these gradients"
      ]
    },
    {
      "cell_type": "code",
      "execution_count": 35,
      "id": "5277794b-fe37-4595-8554-d26db5710e44",
      "metadata": {
        "id": "5277794b-fe37-4595-8554-d26db5710e44"
      },
      "outputs": [],
      "source": [
        "model = BasicMLPNetwork(seq_len, pred_len)\n",
        "loss = torch.nn.MSELoss()\n",
        "\n",
        "# there are different optimizer methods, here we're using Adam Optimizer.\n",
        "optimizer = torch.optim.Adam(model.parameters(), lr = learning_rate)"
      ]
    },
    {
      "cell_type": "code",
      "execution_count": 46,
      "metadata": {
        "id": "wjVPOSYGM1mV"
      },
      "outputs": [],
      "source": [
        "\n",
        "#DO NOT RUN THIS IF THE EARLIER BLOCK IS BEING USED.\n",
        "#we are chaning the optimzing function here\n",
        "\n",
        "model = BasicMLPNetwork(seq_len, pred_len)\n",
        "loss = torch.nn.MSELoss()\n",
        "\n",
        "# there are different optimizer methods, here we're using Adam Optimizer.\n",
        "optimizer = torch.optim.RMSprop(model.parameters(), lr = learning_rate)"
      ],
      "id": "wjVPOSYGM1mV"
    },
    {
      "cell_type": "code",
      "execution_count": 47,
      "id": "1afde643-9953-4129-8415-7b4836c31300",
      "metadata": {
        "colab": {
          "base_uri": "https://localhost:8080/"
        },
        "id": "1afde643-9953-4129-8415-7b4836c31300",
        "outputId": "a4a132bc-e9fc-472c-d5cd-3237e696bc85"
      },
      "outputs": [
        {
          "output_type": "stream",
          "name": "stdout",
          "text": [
            "torch.Size([100, 13])\n",
            "torch.Size([100])\n",
            "torch.Size([1, 100])\n",
            "torch.Size([1])\n",
            "torch.Size([20, 7])\n",
            "torch.Size([20])\n",
            "torch.Size([1, 20])\n",
            "torch.Size([1])\n"
          ]
        }
      ],
      "source": [
        "for gen in model.parameters():\n",
        "    print(gen.shape)"
      ]
    },
    {
      "cell_type": "code",
      "execution_count": 48,
      "id": "4b3cc7a8-9844-4eae-a601-4787513eb1cf",
      "metadata": {
        "colab": {
          "base_uri": "https://localhost:8080/"
        },
        "id": "4b3cc7a8-9844-4eae-a601-4787513eb1cf",
        "outputId": "9e224c44-25d3-462b-fb11-d080d7b5b0a7"
      },
      "outputs": [
        {
          "output_type": "stream",
          "name": "stdout",
          "text": [
            "features shape:  torch.Size([512, 7, 13])\n",
            "labels shape:  torch.Size([512, 1])\n"
          ]
        }
      ],
      "source": [
        "for i, (f,l) in enumerate(train_loader):\n",
        "    print('features shape: ', f.shape)\n",
        "    print('labels shape: ', l.shape)\n",
        "    break"
      ]
    },
    {
      "cell_type": "code",
      "execution_count": 49,
      "id": "22683e91-642a-494b-abc5-069dc6fa9eb6",
      "metadata": {
        "id": "22683e91-642a-494b-abc5-069dc6fa9eb6"
      },
      "outputs": [],
      "source": [
        "# define metrics\n",
        "import numpy as np\n",
        "epsilon = np.finfo(float).eps\n",
        "\n",
        "def wape_function(y, y_pred):\n",
        "    \"\"\"Weighted Average Percentage Error metric in the interval [0; 100]\"\"\"\n",
        "    y = np.array(y)\n",
        "    y_pred = np.array(y_pred)\n",
        "    nominator = np.sum(np.abs(np.subtract(y, y_pred)))\n",
        "    denominator = np.add(np.sum(np.abs(y)), epsilon)\n",
        "    wape = np.divide(nominator, denominator) * 100.0\n",
        "    return wape\n",
        "\n",
        "def nse_function(y, y_pred):\n",
        "    y = np.array(y)\n",
        "    y_pred = np.array(y_pred)\n",
        "    return (1-(np.sum((y_pred-y)**2)/np.sum((y-np.mean(y))**2)))\n",
        "\n",
        "\n",
        "def evaluate_model(model, data_loader, plot=False):\n",
        "    # following line prepares the model for evaulation mode. It disables dropout and batch normalization if they have\n",
        "    # are part of the model. For our simple model it's not necessary. Still I'm going to use it.\n",
        "\n",
        "    model.eval()\n",
        "    all_inputs = torch.empty((0, num_features, seq_len))\n",
        "    all_labels = torch.empty(0, pred_len)\n",
        "    for inputs, labels in data_loader:\n",
        "        all_inputs = torch.vstack((all_inputs, inputs))\n",
        "        all_labels = torch.vstack((all_labels, labels))\n",
        "\n",
        "    with torch.no_grad():\n",
        "        outputs = model(all_inputs)\n",
        "        nse = nse_function(all_labels.numpy(), outputs.numpy())\n",
        "        wape = wape_function(all_labels.numpy(), outputs.numpy())\n",
        "\n",
        "    print(f'NSE : {nse} ', end='')\n",
        "    print(f'WAPE : {wape} ')\n",
        "\n",
        "    if plot:\n",
        "        plt.figure(figsize=(16, 6))\n",
        "        plt.plot(np.array(all_labels.cpu()[:400]), color='green', label='observations')\n",
        "        plt.plot(np.array(outputs.cpu()[:400]), color='red', linestyle='-', label='predictions')\n",
        "        metrics_text = f\"NSE: {nse:.3f}\\nWAPE: {wape:.3f}\"\n",
        "        plt.text(0.28, 0.97, metrics_text, transform=plt.gca().transAxes,\n",
        "        fontsize=12, verticalalignment='top', bbox=dict(boxstyle='round', facecolor='wheat', alpha=0.5))\n",
        "        plt.legend()\n",
        "        plt.show()\n",
        "\n",
        "    model.train()\n",
        "    return nse, wape\n"
      ]
    },
    {
      "cell_type": "code",
      "execution_count": 50,
      "id": "9beaf3a1-2c40-4fc6-b0f7-c352b5763231",
      "metadata": {
        "colab": {
          "base_uri": "https://localhost:8080/"
        },
        "id": "9beaf3a1-2c40-4fc6-b0f7-c352b5763231",
        "outputId": "3dfbac8d-c0e2-45e9-9820-021b366192e8"
      },
      "outputs": [
        {
          "output_type": "stream",
          "name": "stdout",
          "text": [
            "Epoch 1: 0.0072884069012060775 NSE : 0.5223268270492554 WAPE : 26.943634209725047 \n",
            "Epoch 2: 0.0022115005961941218 NSE : 0.8388764262199402 WAPE : 15.213332950049915 \n",
            "Epoch 3: 0.0012113237198779748 NSE : 0.8998450040817261 WAPE : 11.960164943509517 \n",
            "Epoch 4: 0.0009204262059206149 NSE : 0.9302316308021545 WAPE : 9.907534966520702 \n",
            "Epoch 5: 0.0007954850831852707 NSE : 0.9445722103118896 WAPE : 8.7145387382259 \n",
            "Epoch 6: 0.0006957540157258483 NSE : 0.9552466869354248 WAPE : 7.753322156294323 \n",
            "Epoch 7: 0.0006462632907812731 NSE : 0.9612585306167603 WAPE : 7.1519901573254785 \n",
            "Epoch 8: 0.0005926979138410804 NSE : 0.9656847715377808 WAPE : 6.728484709009884 \n",
            "Epoch 9: 0.0005608318306075178 NSE : 0.968620240688324 WAPE : 6.424484184704352 \n",
            "Epoch 10: 0.0005189475630308054 NSE : 0.9709039926528931 WAPE : 6.2157479083143885 \n"
          ]
        }
      ],
      "source": [
        "num_epochs = 10\n",
        "\n",
        "for epoch in range(num_epochs):\n",
        "    epoch_loss = []\n",
        "    for batch_idx, (inputs, labels) in enumerate(train_loader):\n",
        "        outputs = model(inputs)\n",
        "        loss_val = loss(outputs, labels)\n",
        "\n",
        "        # calculate gradients for back propagation\n",
        "        loss_val.backward()\n",
        "\n",
        "        # update the weights based on the gradients\n",
        "        optimizer.step()\n",
        "\n",
        "        # reset the gradients, avoid gradient accumulation\n",
        "        optimizer.zero_grad()\n",
        "        epoch_loss.append(loss_val.item())\n",
        "\n",
        "    print(f'Epoch {epoch+1}: {sum(epoch_loss)/len(epoch_loss)} ', end='')\n",
        "    nse, wape = evaluate_model(model, val_loader)\n",
        "\n",
        "\n",
        "\n"
      ]
    },
    {
      "cell_type": "code",
      "execution_count": 51,
      "id": "f7216e93-a35d-4aa5-83db-2e43ea380f6e",
      "metadata": {
        "colab": {
          "base_uri": "https://localhost:8080/",
          "height": 557
        },
        "id": "f7216e93-a35d-4aa5-83db-2e43ea380f6e",
        "outputId": "ec98d752-5c99-4b81-a2ab-b1b423260c59"
      },
      "outputs": [
        {
          "output_type": "stream",
          "name": "stdout",
          "text": [
            "NSE : 0.9755172729492188 WAPE : 6.585897510116959 \n"
          ]
        },
        {
          "output_type": "display_data",
          "data": {
            "text/plain": [
              "<Figure size 1600x600 with 1 Axes>"
            ],
            "image/png": "[encoded data removed]"
          },
          "metadata": {}
        },
        {
          "output_type": "execute_result",
          "data": {
            "text/plain": [
              "(np.float32(0.9755173), np.float64(6.585897510116959))"
            ]
          },
          "metadata": {},
          "execution_count": 51
        }
      ],
      "source": [
        "\n",
        "evaluate_model(model, test_loader, True)\n",
        "\n",
        "\n",
        "## Write code for plotting the observed values and predictions."
      ]
    },
    {
      "cell_type": "code",
      "execution_count": null,
      "id": "b762b299-952d-445e-91bb-bc6bc8720075",
      "metadata": {
        "id": "b762b299-952d-445e-91bb-bc6bc8720075"
      },
      "outputs": [],
      "source": []
    }
  ],
  "metadata": {
    "kernelspec": {
      "display_name": "Python 3 (ipykernel)",
      "language": "python",
      "name": "python3"
    },
    "language_info": {
      "codemirror_mode": {
        "name": "ipython",
        "version": 3
      },
      "file_extension": ".py",
      "mimetype": "text/x-python",
      "name": "python",
      "nbconvert_exporter": "python",
      "pygments_lexer": "ipython3",
      "version": "3.10.13"
    },
    "colab": {
      "provenance": []
    }
  },
  "nbformat": 4,
  "nbformat_minor": 5
}